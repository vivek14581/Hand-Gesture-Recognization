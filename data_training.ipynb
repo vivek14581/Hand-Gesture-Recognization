{
 "cells": [
  {
   "cell_type": "markdown",
   "id": "4444069d-d699-4326-bc9c-a7d1b56b532b",
   "metadata": {},
   "source": [
    "# Data Training"
   ]
  },
  {
   "cell_type": "markdown",
   "id": "78f91d75-3dc2-43d8-81ef-b5181cbe1118",
   "metadata": {},
   "source": [
    "### Importing Libraries"
   ]
  },
  {
   "cell_type": "code",
   "execution_count": 1,
   "id": "a5edd652-0677-4c83-8e37-23bb33876578",
   "metadata": {},
   "outputs": [],
   "source": [
    "import tensorflow as tf\n",
    "from tensorflow.keras import layers, models\n",
    "import numpy as np\n",
    "import cv2\n",
    "from sklearn.utils import shuffle\n",
    "import matplotlib.pyplot as plt\n",
    "import os"
   ]
  },
  {
   "cell_type": "markdown",
   "id": "37dc0b40-7416-4902-a6c1-591ae7df4800",
   "metadata": {},
   "source": [
    "## Gestures List"
   ]
  },
  {
   "cell_type": "code",
   "execution_count": 2,
   "id": "a29f4822-300c-4c55-a7d6-fbe7b01b5ed5",
   "metadata": {},
   "outputs": [],
   "source": [
    "gestures = ['fist', 'palm', 'swing','vivek']\n",
    "test_data_dir = 'data/test'\n",
    "train_data_dir = 'data/train'"
   ]
  },
  {
   "cell_type": "code",
   "execution_count": 3,
   "id": "88eb355f-46b6-4bb7-8dd5-a827ea25b98a",
   "metadata": {},
   "outputs": [],
   "source": [
    "train_Images = []\n",
    "no_train_images = 1001\n",
    "\n",
    "for gesture in gestures:\n",
    "    for i in range(1, no_train_images):\n",
    "#         print(train_data_dir + '/' + gesture + '/' + gesture + '_ (' + str(i) + ').png')\n",
    "        image = cv2.imread(train_data_dir + '/' + gesture + '/' + gesture + '_ (' + str(i) + ').png')\n",
    "        gray_image = cv2.cvtColor(image, cv2.COLOR_BGR2GRAY)\n",
    "        train_Images.append(gray_image.reshape(89, 100, 1))"
   ]
  },
  {
   "cell_type": "code",
   "execution_count": 4,
   "id": "a947294d-6cb5-4ba4-a0e2-bee98f12ca3a",
   "metadata": {},
   "outputs": [],
   "source": [
    "train_Labels = []\n",
    "no_train_images = 1000\n",
    "\n",
    "for i in range(0, len(gestures)):\n",
    "    vect = [0] * len(gestures)\n",
    "    vect[i] = 1\n",
    "    for j in range(0, no_train_images):\n",
    "        train_Labels.append(vect)"
   ]
  },
  {
   "cell_type": "code",
   "execution_count": 5,
   "id": "997c3f2f-18bb-4491-959f-9f2832b7c0df",
   "metadata": {},
   "outputs": [],
   "source": [
    "test_Images = []\n",
    "no_test_images = 101\n",
    "\n",
    "for gesture in gestures:\n",
    "    for i in range(1, no_test_images):\n",
    "        # print(train_data_dir + '/' + gesture + '/' + gesture + '_' + str(i) + '.png')\n",
    "        image = cv2.imread(test_data_dir + '/' + gesture + '/' + gesture + '_ (' + str(i) + ').png')\n",
    "        gray_image = cv2.cvtColor(image, cv2.COLOR_BGR2GRAY)\n",
    "        test_Images.append(gray_image.reshape(89, 100, 1))"
   ]
  },
  {
   "cell_type": "code",
   "execution_count": 6,
   "id": "5732e974-11ee-4d8f-8ceb-bd613d4cac5e",
   "metadata": {},
   "outputs": [],
   "source": [
    "test_Labels = []\n",
    "no_test_images = 100\n",
    "\n",
    "for i in range(0, len(gestures)):\n",
    "    vect = [0] * len(gestures)\n",
    "    vect[i] = 1\n",
    "    for j in range(0, no_test_images):\n",
    "        test_Labels.append(vect)"
   ]
  },
  {
   "cell_type": "code",
   "execution_count": 7,
   "id": "a9a615f2-04b6-4348-bc2c-ca117a54cdb9",
   "metadata": {},
   "outputs": [
    {
     "name": "stdout",
     "output_type": "stream",
     "text": [
      "Training Images: 4000\n",
      "Training Labels: 4000\n",
      "Testing Images: 400\n",
      "Testing Labels: 400\n"
     ]
    }
   ],
   "source": [
    "print(\"Training Images: \" + str(len(train_Images)))\n",
    "print(\"Training Labels: \" + str(len(train_Labels)))\n",
    "print(\"Testing Images: \" + str(len(test_Images)))\n",
    "print(\"Testing Labels: \" + str(len(test_Labels)))"
   ]
  },
  {
   "cell_type": "markdown",
   "id": "612d792a-5c59-4c98-aaf2-82e54a7ba90d",
   "metadata": {},
   "source": [
    "### Transforming the input data"
   ]
  },
  {
   "cell_type": "code",
   "execution_count": 8,
   "id": "00c713e2-24c5-45cd-8dee-713c68d229a2",
   "metadata": {},
   "outputs": [],
   "source": [
    "train_Images = np.array(train_Images)\n",
    "train_Labels = np.array(train_Labels)\n",
    "test_Images = np.array(test_Images)\n",
    "test_Labels = np.array(test_Labels)"
   ]
  },
  {
   "cell_type": "markdown",
   "id": "e3562b4b-3563-4d5d-b780-273602712542",
   "metadata": {},
   "source": [
    "## Making CNN Model"
   ]
  },
  {
   "cell_type": "code",
   "execution_count": 9,
   "id": "a4fbfac3-8905-418a-af32-68e0f775b882",
   "metadata": {},
   "outputs": [],
   "source": [
    "tf.compat.v1.reset_default_graph()\n",
    "model = models.Sequential([\n",
    "    #cnn layers\n",
    "    layers.Conv2D(filters = 32, activation='relu', kernel_size = (2,2), input_shape = (89,100,1)),\n",
    "    layers.MaxPooling2D((2,2)),\n",
    "    layers.Conv2D(filters = 64, activation='relu', kernel_size = (2,2)),\n",
    "    layers.MaxPooling2D((2,2)),\n",
    "    layers.Conv2D(filters = 128, activation='relu', kernel_size = (2,2)),\n",
    "    layers.MaxPooling2D((2,2)),\n",
    "    layers.Conv2D(filters = 256, activation='relu', kernel_size = (2,2)),\n",
    "    layers.MaxPooling2D((2,2)),\n",
    "    #dense\n",
    "    layers.Flatten(),\n",
    "    layers.Dense(1000, activation = 'relu'),\n",
    "    layers.Dropout((0.40)),\n",
    "    layers.Dense(500, activation = 'relu'),\n",
    "    layers.Dropout((0.40)),\n",
    "    # layers.Dense(64, activation = 'relu'),\n",
    "    layers.Dense(4, activation = 'softmax')\n",
    "])"
   ]
  },
  {
   "cell_type": "code",
   "execution_count": 10,
   "id": "24a4a4db",
   "metadata": {},
   "outputs": [
    {
     "name": "stdout",
     "output_type": "stream",
     "text": [
      "Model: \"sequential\"\n",
      "_________________________________________________________________\n",
      " Layer (type)                Output Shape              Param #   \n",
      "=================================================================\n",
      " conv2d (Conv2D)             (None, 88, 99, 32)        160       \n",
      "                                                                 \n",
      " max_pooling2d (MaxPooling2D  (None, 44, 49, 32)       0         \n",
      " )                                                               \n",
      "                                                                 \n",
      " conv2d_1 (Conv2D)           (None, 43, 48, 64)        8256      \n",
      "                                                                 \n",
      " max_pooling2d_1 (MaxPooling  (None, 21, 24, 64)       0         \n",
      " 2D)                                                             \n",
      "                                                                 \n",
      " conv2d_2 (Conv2D)           (None, 20, 23, 128)       32896     \n",
      "                                                                 \n",
      " max_pooling2d_2 (MaxPooling  (None, 10, 11, 128)      0         \n",
      " 2D)                                                             \n",
      "                                                                 \n",
      " conv2d_3 (Conv2D)           (None, 9, 10, 256)        131328    \n",
      "                                                                 \n",
      " max_pooling2d_3 (MaxPooling  (None, 4, 5, 256)        0         \n",
      " 2D)                                                             \n",
      "                                                                 \n",
      " flatten (Flatten)           (None, 5120)              0         \n",
      "                                                                 \n",
      " dense (Dense)               (None, 1000)              5121000   \n",
      "                                                                 \n",
      " dropout (Dropout)           (None, 1000)              0         \n",
      "                                                                 \n",
      " dense_1 (Dense)             (None, 500)               500500    \n",
      "                                                                 \n",
      " dropout_1 (Dropout)         (None, 500)               0         \n",
      "                                                                 \n",
      " dense_2 (Dense)             (None, 4)                 2004      \n",
      "                                                                 \n",
      "=================================================================\n",
      "Total params: 5,796,144\n",
      "Trainable params: 5,796,144\n",
      "Non-trainable params: 0\n",
      "_________________________________________________________________\n"
     ]
    }
   ],
   "source": [
    "model.summary()"
   ]
  },
  {
   "cell_type": "markdown",
   "id": "1ca4444b-bcfb-4327-ab89-c2ad41e1cd4c",
   "metadata": {},
   "source": [
    "### Training"
   ]
  },
  {
   "cell_type": "code",
   "execution_count": 11,
   "id": "b9559f9f-1b7d-4068-88e3-f90d5608421e",
   "metadata": {},
   "outputs": [],
   "source": [
    "model.compile(optimizer = 'adam', loss = 'categorical_crossentropy', metrics = ['accuracy'])"
   ]
  },
  {
   "cell_type": "code",
   "execution_count": 12,
   "id": "75086188-9b63-4c10-bbbf-34a328c1ddcd",
   "metadata": {},
   "outputs": [],
   "source": [
    "# Shuffle Training Data\n",
    "train_Images, train_Labels = shuffle(train_Images, train_Labels, random_state=0)"
   ]
  },
  {
   "cell_type": "code",
   "execution_count": 13,
   "id": "6d16320c-8aa8-44da-8959-7def1cb6f450",
   "metadata": {},
   "outputs": [
    {
     "name": "stdout",
     "output_type": "stream",
     "text": [
      "Epoch 1/60\n",
      "125/125 [==============================] - 37s 283ms/step - loss: 1.3156 - accuracy: 0.9635 - val_loss: 0.9960 - val_accuracy: 0.8925\n",
      "Epoch 2/60\n",
      "125/125 [==============================] - 35s 281ms/step - loss: 1.9616e-04 - accuracy: 1.0000 - val_loss: 1.9863 - val_accuracy: 0.8250\n",
      "Epoch 3/60\n",
      "125/125 [==============================] - 35s 282ms/step - loss: 7.7905e-04 - accuracy: 0.9998 - val_loss: 2.4061 - val_accuracy: 0.8025\n",
      "Epoch 4/60\n",
      "125/125 [==============================] - 35s 282ms/step - loss: 0.0260 - accuracy: 0.9952 - val_loss: 0.9439 - val_accuracy: 0.9125\n",
      "Epoch 5/60\n",
      "125/125 [==============================] - 35s 282ms/step - loss: 0.0191 - accuracy: 0.9975 - val_loss: 3.9452 - val_accuracy: 0.8075\n",
      "Epoch 6/60\n",
      "125/125 [==============================] - 35s 279ms/step - loss: 0.0058 - accuracy: 0.9992 - val_loss: 1.8910 - val_accuracy: 0.8425\n",
      "Epoch 7/60\n",
      "125/125 [==============================] - 35s 282ms/step - loss: 0.0012 - accuracy: 0.9995 - val_loss: 1.5991 - val_accuracy: 0.8925\n",
      "Epoch 8/60\n",
      "125/125 [==============================] - 35s 284ms/step - loss: 2.5799e-04 - accuracy: 0.9998 - val_loss: 3.0402 - val_accuracy: 0.8450\n",
      "Epoch 9/60\n",
      "125/125 [==============================] - 36s 292ms/step - loss: 2.6608e-06 - accuracy: 1.0000 - val_loss: 2.7648 - val_accuracy: 0.8525\n",
      "Epoch 10/60\n",
      "125/125 [==============================] - 33s 268ms/step - loss: 3.1590e-09 - accuracy: 1.0000 - val_loss: 2.7535 - val_accuracy: 0.8525\n",
      "Epoch 11/60\n",
      "125/125 [==============================] - 33s 268ms/step - loss: 2.0563e-08 - accuracy: 1.0000 - val_loss: 2.7477 - val_accuracy: 0.8525\n",
      "Epoch 12/60\n",
      "125/125 [==============================] - 33s 268ms/step - loss: 7.4505e-09 - accuracy: 1.0000 - val_loss: 2.7483 - val_accuracy: 0.8525\n",
      "Epoch 13/60\n",
      "125/125 [==============================] - 34s 271ms/step - loss: 0.0901 - accuracy: 0.9958 - val_loss: 13.6910 - val_accuracy: 0.8725\n",
      "Epoch 14/60\n",
      "125/125 [==============================] - 34s 269ms/step - loss: 0.3648 - accuracy: 0.9918 - val_loss: 1.5356 - val_accuracy: 0.9500\n",
      "Epoch 15/60\n",
      "125/125 [==============================] - 34s 268ms/step - loss: 0.0260 - accuracy: 0.9985 - val_loss: 4.8497 - val_accuracy: 0.8700\n",
      "Epoch 16/60\n",
      "125/125 [==============================] - 34s 269ms/step - loss: 0.0013 - accuracy: 0.9998 - val_loss: 2.3976 - val_accuracy: 0.9300\n",
      "Epoch 17/60\n",
      "125/125 [==============================] - 34s 269ms/step - loss: 3.6148e-08 - accuracy: 1.0000 - val_loss: 2.3977 - val_accuracy: 0.9300\n",
      "Epoch 18/60\n",
      "125/125 [==============================] - 34s 269ms/step - loss: 3.9267e-06 - accuracy: 1.0000 - val_loss: 2.3545 - val_accuracy: 0.9300\n",
      "Epoch 19/60\n",
      "125/125 [==============================] - 33s 268ms/step - loss: 8.0357e-05 - accuracy: 1.0000 - val_loss: 1.9324 - val_accuracy: 0.9250\n",
      "Epoch 20/60\n",
      "125/125 [==============================] - 33s 267ms/step - loss: 0.0072 - accuracy: 0.9995 - val_loss: 5.8997 - val_accuracy: 0.8475\n",
      "Epoch 21/60\n",
      "125/125 [==============================] - 34s 268ms/step - loss: 0.0045 - accuracy: 0.9992 - val_loss: 5.7739 - val_accuracy: 0.9100\n",
      "Epoch 22/60\n",
      "125/125 [==============================] - 34s 269ms/step - loss: 0.0342 - accuracy: 0.9987 - val_loss: 2.8645 - val_accuracy: 0.9500\n",
      "Epoch 23/60\n",
      "125/125 [==============================] - 34s 269ms/step - loss: 0.0136 - accuracy: 0.9992 - val_loss: 2.9395 - val_accuracy: 0.9250\n",
      "Epoch 24/60\n",
      "125/125 [==============================] - 33s 268ms/step - loss: 4.3038e-05 - accuracy: 1.0000 - val_loss: 3.9986 - val_accuracy: 0.9200\n",
      "Epoch 25/60\n",
      "125/125 [==============================] - 33s 267ms/step - loss: 2.6822e-10 - accuracy: 1.0000 - val_loss: 4.0003 - val_accuracy: 0.9200\n",
      "Epoch 26/60\n",
      "125/125 [==============================] - 33s 268ms/step - loss: 4.5114e-04 - accuracy: 0.9998 - val_loss: 6.1765 - val_accuracy: 0.8975\n",
      "Epoch 27/60\n",
      "125/125 [==============================] - 33s 267ms/step - loss: 0.0024 - accuracy: 0.9998 - val_loss: 15.2288 - val_accuracy: 0.8625\n",
      "Epoch 28/60\n",
      "125/125 [==============================] - 34s 276ms/step - loss: 0.0313 - accuracy: 0.9987 - val_loss: 11.4221 - val_accuracy: 0.9125\n",
      "Epoch 29/60\n",
      "125/125 [==============================] - 35s 280ms/step - loss: 0.1107 - accuracy: 0.9980 - val_loss: 14.0444 - val_accuracy: 0.8725\n",
      "Epoch 30/60\n",
      "125/125 [==============================] - 35s 280ms/step - loss: 0.0636 - accuracy: 0.9985 - val_loss: 7.2270 - val_accuracy: 0.9050\n",
      "Epoch 31/60\n",
      "125/125 [==============================] - 35s 281ms/step - loss: 0.0172 - accuracy: 0.9992 - val_loss: 11.2873 - val_accuracy: 0.9075\n",
      "Epoch 32/60\n",
      "125/125 [==============================] - 35s 280ms/step - loss: 0.0000e+00 - accuracy: 1.0000 - val_loss: 11.3164 - val_accuracy: 0.9075\n",
      "Epoch 33/60\n",
      "125/125 [==============================] - 35s 279ms/step - loss: 0.0000e+00 - accuracy: 1.0000 - val_loss: 11.3164 - val_accuracy: 0.9075\n",
      "Epoch 34/60\n",
      "125/125 [==============================] - 35s 279ms/step - loss: 0.0103 - accuracy: 0.9998 - val_loss: 20.6979 - val_accuracy: 0.8625\n",
      "Epoch 35/60\n",
      "125/125 [==============================] - 35s 279ms/step - loss: 0.0021 - accuracy: 0.9998 - val_loss: 10.1280 - val_accuracy: 0.9225\n",
      "Epoch 36/60\n",
      "125/125 [==============================] - 35s 280ms/step - loss: 0.0662 - accuracy: 0.9990 - val_loss: 23.1273 - val_accuracy: 0.8700\n",
      "Epoch 37/60\n",
      "125/125 [==============================] - 35s 279ms/step - loss: 0.1297 - accuracy: 0.9985 - val_loss: 87.9376 - val_accuracy: 0.8125\n",
      "Epoch 38/60\n",
      "125/125 [==============================] - 35s 279ms/step - loss: 1.2954 - accuracy: 0.9948 - val_loss: 22.9263 - val_accuracy: 0.9350\n",
      "Epoch 39/60\n",
      "125/125 [==============================] - 35s 279ms/step - loss: 0.1786 - accuracy: 0.9990 - val_loss: 91.4640 - val_accuracy: 0.8625\n",
      "Epoch 40/60\n",
      "125/125 [==============================] - 34s 275ms/step - loss: 0.0055 - accuracy: 0.9998 - val_loss: 23.5186 - val_accuracy: 0.9375\n",
      "Epoch 41/60\n",
      "125/125 [==============================] - 34s 275ms/step - loss: 0.0000e+00 - accuracy: 1.0000 - val_loss: 23.5875 - val_accuracy: 0.9375\n",
      "Epoch 42/60\n",
      "125/125 [==============================] - 35s 278ms/step - loss: 0.0125 - accuracy: 0.9998 - val_loss: 14.0049 - val_accuracy: 0.9575\n",
      "Epoch 43/60\n",
      "125/125 [==============================] - 35s 279ms/step - loss: 0.0000e+00 - accuracy: 1.0000 - val_loss: 14.0049 - val_accuracy: 0.9575\n",
      "Epoch 44/60\n",
      "125/125 [==============================] - 35s 277ms/step - loss: 0.0000e+00 - accuracy: 1.0000 - val_loss: 14.0049 - val_accuracy: 0.9575\n",
      "Epoch 45/60\n",
      "125/125 [==============================] - 35s 278ms/step - loss: 0.0000e+00 - accuracy: 1.0000 - val_loss: 14.0049 - val_accuracy: 0.9575\n",
      "Epoch 46/60\n",
      "125/125 [==============================] - 35s 277ms/step - loss: 0.0000e+00 - accuracy: 1.0000 - val_loss: 14.0049 - val_accuracy: 0.9575\n",
      "Epoch 47/60\n",
      "125/125 [==============================] - 35s 277ms/step - loss: 0.0000e+00 - accuracy: 1.0000 - val_loss: 14.0049 - val_accuracy: 0.9575\n",
      "Epoch 48/60\n",
      "125/125 [==============================] - 35s 279ms/step - loss: 0.0000e+00 - accuracy: 1.0000 - val_loss: 14.0049 - val_accuracy: 0.9575\n",
      "Epoch 49/60\n",
      "125/125 [==============================] - 35s 281ms/step - loss: 0.0000e+00 - accuracy: 1.0000 - val_loss: 14.0049 - val_accuracy: 0.9575\n",
      "Epoch 50/60\n",
      "125/125 [==============================] - 35s 281ms/step - loss: 0.0000e+00 - accuracy: 1.0000 - val_loss: 14.0049 - val_accuracy: 0.9575\n",
      "Epoch 51/60\n",
      "125/125 [==============================] - 35s 281ms/step - loss: 0.0000e+00 - accuracy: 1.0000 - val_loss: 14.0049 - val_accuracy: 0.9575\n",
      "Epoch 52/60\n",
      "125/125 [==============================] - 35s 281ms/step - loss: 0.0000e+00 - accuracy: 1.0000 - val_loss: 14.0049 - val_accuracy: 0.9575\n",
      "Epoch 53/60\n",
      "125/125 [==============================] - 35s 280ms/step - loss: 0.0000e+00 - accuracy: 1.0000 - val_loss: 14.0049 - val_accuracy: 0.9575\n",
      "Epoch 54/60\n",
      "125/125 [==============================] - 35s 281ms/step - loss: 0.0000e+00 - accuracy: 1.0000 - val_loss: 14.0049 - val_accuracy: 0.9575\n",
      "Epoch 55/60\n",
      "125/125 [==============================] - 35s 282ms/step - loss: 0.0000e+00 - accuracy: 1.0000 - val_loss: 14.0049 - val_accuracy: 0.9575\n",
      "Epoch 56/60\n"
     ]
    },
    {
     "name": "stdout",
     "output_type": "stream",
     "text": [
      "125/125 [==============================] - 36s 285ms/step - loss: 0.0000e+00 - accuracy: 1.0000 - val_loss: 14.0049 - val_accuracy: 0.9575\n",
      "Epoch 57/60\n",
      "125/125 [==============================] - 35s 284ms/step - loss: 0.0000e+00 - accuracy: 1.0000 - val_loss: 14.0049 - val_accuracy: 0.9575\n",
      "Epoch 58/60\n",
      "125/125 [==============================] - 35s 283ms/step - loss: 0.0000e+00 - accuracy: 1.0000 - val_loss: 14.0049 - val_accuracy: 0.9575\n",
      "Epoch 59/60\n",
      "125/125 [==============================] - 35s 283ms/step - loss: 0.0000e+00 - accuracy: 1.0000 - val_loss: 14.0049 - val_accuracy: 0.9575\n",
      "Epoch 60/60\n",
      "125/125 [==============================] - 36s 285ms/step - loss: 0.0000e+00 - accuracy: 1.0000 - val_loss: 14.0049 - val_accuracy: 0.9575\n"
     ]
    }
   ],
   "source": [
    "history = model.fit(train_Images, train_Labels, epochs=60, validation_data = (test_Images, test_Labels))"
   ]
  },
  {
   "cell_type": "markdown",
   "id": "f932a6d0-85cc-4ccc-9c51-9ae0d4b86f01",
   "metadata": {},
   "source": [
    "### Saving Model"
   ]
  },
  {
   "cell_type": "code",
   "execution_count": 14,
   "id": "7beba01b-14a6-436e-b45a-be4a7015cdfd",
   "metadata": {},
   "outputs": [
    {
     "name": "stderr",
     "output_type": "stream",
     "text": [
      "WARNING:absl:Found untraced functions such as _jit_compiled_convolution_op, _jit_compiled_convolution_op, _jit_compiled_convolution_op, _jit_compiled_convolution_op while saving (showing 4 of 4). These functions will not be directly callable after loading.\n"
     ]
    },
    {
     "name": "stdout",
     "output_type": "stream",
     "text": [
      "INFO:tensorflow:Assets written to: ./TrainedModel/assets\n"
     ]
    },
    {
     "name": "stderr",
     "output_type": "stream",
     "text": [
      "INFO:tensorflow:Assets written to: ./TrainedModel/assets\n"
     ]
    }
   ],
   "source": [
    "if not os.path.isdir('TrainedModel'):\n",
    "    os.mkdir('TrainedModel')\n",
    "model.save('./TrainedModel/')"
   ]
  },
  {
   "cell_type": "code",
   "execution_count": 15,
   "id": "0cdc536b",
   "metadata": {},
   "outputs": [
    {
     "name": "stdout",
     "output_type": "stream",
     "text": [
      "13/13 - 1s - loss: 14.0049 - accuracy: 0.9575 - 990ms/epoch - 76ms/step\n"
     ]
    }
   ],
   "source": [
    "test_loss, test_acc = model.evaluate(test_Images,  test_Labels, verbose=2)"
   ]
  }
 ],
 "metadata": {
  "kernelspec": {
   "display_name": "Python 3 (ipykernel)",
   "language": "python",
   "name": "python3"
  },
  "language_info": {
   "codemirror_mode": {
    "name": "ipython",
    "version": 3
   },
   "file_extension": ".py",
   "mimetype": "text/x-python",
   "name": "python",
   "nbconvert_exporter": "python",
   "pygments_lexer": "ipython3",
   "version": "3.9.12"
  }
 },
 "nbformat": 4,
 "nbformat_minor": 5
}
